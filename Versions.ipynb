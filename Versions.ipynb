{
 "cells": [
  {
   "attachments": {},
   "cell_type": "markdown",
   "metadata": {},
   "source": [
    "**Installation:**\n",
    "- ``conda install -c conda-forge box2d-py``\n",
    "- ``conda install swig``\n",
    "- ``pip install gym[all]``\n",
    "- ``pip install pygame``\n",
    "- ``pip install stable-baselines3[extra]``\n",
    "- ``pip install pyglet==1.5.27``\n",
    "- ``conda install -c conda-forge tensorboard``\n",
    "\n",
    "Note: Run pip from anaconda terminal to install only in the local environment."
   ]
  },
  {
   "cell_type": "code",
   "execution_count": 1,
   "metadata": {},
   "outputs": [],
   "source": [
    "import gym\n",
    "import stable_baselines3"
   ]
  },
  {
   "cell_type": "code",
   "execution_count": 2,
   "metadata": {},
   "outputs": [
    {
     "name": "stdout",
     "output_type": "stream",
     "text": [
      "Gym version: 0.21.0\n",
      "Stable Baselines3 version: 1.8.0\n"
     ]
    }
   ],
   "source": [
    "print(f'Gym version: {gym.__version__}')\n",
    "print(f'Stable Baselines3 version: {stable_baselines3.__version__}')"
   ]
  }
 ],
 "metadata": {
  "kernelspec": {
   "display_name": "rl-env",
   "language": "python",
   "name": "python3"
  },
  "language_info": {
   "codemirror_mode": {
    "name": "ipython",
    "version": 3
   },
   "file_extension": ".py",
   "mimetype": "text/x-python",
   "name": "python",
   "nbconvert_exporter": "python",
   "pygments_lexer": "ipython3",
   "version": "3.10.11"
  },
  "orig_nbformat": 4
 },
 "nbformat": 4,
 "nbformat_minor": 2
}
